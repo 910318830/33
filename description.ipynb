{
 "cells": [
  {
   "cell_type": "code",
   "execution_count": 14,
   "metadata": {},
   "outputs": [],
   "source": [
    "import pandas as pd\n",
    "import matplotlib.pyplot as plt\n",
    "plt.rcParams[\"font.sans-serif\"]=[\"SimHei\"]#设置字体\n",
    "df=pd.read_spss(R'data/identity.sav')\n"
   ]
  },
  {
   "cell_type": "code",
   "execution_count": 15,
   "metadata": {},
   "outputs": [
    {
     "data": {
      "text/plain": [
       "民族\n",
       "汉族      0.424277\n",
       "回族      0.152601\n",
       "藏族      0.057803\n",
       "蒙古族     0.057803\n",
       "壮族      0.054335\n",
       "土家族     0.053179\n",
       "维吾尔族    0.053179\n",
       "苗族      0.039306\n",
       "彝族      0.017341\n",
       "白族      0.017341\n",
       "满族      0.012717\n",
       "哈萨克族    0.011561\n",
       "瑶族      0.009249\n",
       "布依族     0.008092\n",
       "侗族      0.005780\n",
       "东乡族     0.004624\n",
       "黎族      0.003468\n",
       "哈尼族     0.003468\n",
       "水族      0.002312\n",
       "仫佬族     0.002312\n",
       "羌族      0.002312\n",
       "畲族      0.001156\n",
       "土族      0.001156\n",
       "其他      0.001156\n",
       "保安族     0.001156\n",
       "裕固族     0.001156\n",
       "毛难族     0.001156\n",
       "Name: proportion, dtype: float64"
      ]
     },
     "execution_count": 15,
     "metadata": {},
     "output_type": "execute_result"
    }
   ],
   "source": [
    "df['民族'].value_counts(normalize=True)"
   ]
  },
  {
   "cell_type": "code",
   "execution_count": 6,
   "metadata": {},
   "outputs": [
    {
     "ename": "NameError",
     "evalue": "name 'df' is not defined",
     "output_type": "error",
     "traceback": [
      "\u001b[1;31m---------------------------------------------------------------------------\u001b[0m",
      "\u001b[1;31mNameError\u001b[0m                                 Traceback (most recent call last)",
      "\u001b[1;32mc:\\Users\\86181\\Desktop\\33\\description.ipynb 单元格 3\u001b[0m line \u001b[0;36m1\n\u001b[1;32m----> <a href='vscode-notebook-cell:/c%3A/Users/86181/Desktop/33/description.ipynb#W2sZmlsZQ%3D%3D?line=0'>1</a>\u001b[0m x \u001b[39m=\u001b[39m df[\u001b[39m'\u001b[39m\u001b[39m政治面貌n\u001b[39m\u001b[39m'\u001b[39m]\u001b[39m.\u001b[39mvalue_counts()\u001b[39m.\u001b[39mindex\n\u001b[0;32m      <a href='vscode-notebook-cell:/c%3A/Users/86181/Desktop/33/description.ipynb#W2sZmlsZQ%3D%3D?line=1'>2</a>\u001b[0m y \u001b[39m=\u001b[39m df[\u001b[39m'\u001b[39m\u001b[39m政治面貌\u001b[39m\u001b[39m'\u001b[39m]\u001b[39m.\u001b[39mvalue_counts(normalize\u001b[39m=\u001b[39m\u001b[39mTrue\u001b[39;00m)\u001b[39m.\u001b[39mvalues \u001b[39m*\u001b[39m\u001b[39m100\u001b[39m \n\u001b[0;32m      <a href='vscode-notebook-cell:/c%3A/Users/86181/Desktop/33/description.ipynb#W2sZmlsZQ%3D%3D?line=2'>3</a>\u001b[0m fig,ax2 \u001b[39m=\u001b[39mplt\u001b[39m.\u001b[39msubplots()\n",
      "\u001b[1;31mNameError\u001b[0m: name 'df' is not defined"
     ]
    }
   ],
   "source": [
    "x = df['政治面貌n'].value_counts().index\n",
    "y = df['政治面貌'].value_counts(normalize=True).values *100 \n",
    "fig,ax2 =plt.subplots()\n",
    "labels= df['政治面貌'].value_counts().index\n",
    "ax2.pie(y, autopct='%1.1f%%', labels=labels, textprops=dict(color=\"w\" ))\n",
    "plt.show( )"
   ]
  },
  {
   "cell_type": "code",
   "execution_count": null,
   "metadata": {},
   "outputs": [
    {
     "data": {
      "image/png": "[encoded data removed]",
      "text/plain": [
       "<Figure size 640x480 with 1 Axes>"
      ]
     },
     "metadata": {},
     "output_type": "display_data"
    }
   ],
   "source": [
    "x = df['年级'].value_counts().index\n",
    "y = df['年级'].value_counts(normalize=True).values *100 \n",
    "fig,ax2 =plt.subplots()\n",
    "labels= df['年级'].value_counts().index\n",
    "ax2.pie(y, autopct='%1.1f%%', labels=labels, textprops=dict(color=\"w\" ))\n",
    "plt.show( )"
   ]
  },
  {
   "cell_type": "code",
   "execution_count": 8,
   "metadata": {},
   "outputs": [
    {
     "ename": "NameError",
     "evalue": "name 'plot_variable_pie' is not defined",
     "output_type": "error",
     "traceback": [
      "\u001b[1;31m---------------------------------------------------------------------------\u001b[0m",
      "\u001b[1;31mNameError\u001b[0m                                 Traceback (most recent call last)",
      "\u001b[1;32mc:\\Users\\86181\\Desktop\\33\\description.ipynb 单元格 5\u001b[0m line \u001b[0;36m3\n\u001b[0;32m      <a href='vscode-notebook-cell:/c%3A/Users/86181/Desktop/33/description.ipynb#W4sZmlsZQ%3D%3D?line=0'>1</a>\u001b[0m \u001b[39mimport\u001b[39;00m \u001b[39mmytools\u001b[39;00m\n\u001b[0;32m      <a href='vscode-notebook-cell:/c%3A/Users/86181/Desktop/33/description.ipynb#W4sZmlsZQ%3D%3D?line=1'>2</a>\u001b[0m df2,  mete\u001b[39m=\u001b[39mmytools\u001b[39m.\u001b[39m读取SPSS数据(\u001b[39mR\u001b[39m\u001b[39m'\u001b[39m\u001b[39mdata\u001b[39m\u001b[39m\\\u001b[39m\u001b[39midentity.sav\u001b[39m\u001b[39m'\u001b[39m)\n\u001b[1;32m----> <a href='vscode-notebook-cell:/c%3A/Users/86181/Desktop/33/description.ipynb#W4sZmlsZQ%3D%3D?line=2'>3</a>\u001b[0m plot_variable_pie(df2,\u001b[39m'\u001b[39m\u001b[39m年级\u001b[39m\u001b[39m'\u001b[39m)\n",
      "\u001b[1;31mNameError\u001b[0m: name 'plot_variable_pie' is not defined"
     ]
    }
   ],
   "source": [
    "import mytools\n",
    "df2,  mete=mytools.读取SPSS数据(R'data\\identity.sav')\n",
    "plot_variable_pie(df2,'年级')"
   ]
  }
 ],
 "metadata": {
  "kernelspec": {
   "display_name": "Python 3",
   "language": "python",
   "name": "python3"
  },
  "language_info": {
   "codemirror_mode": {
    "name": "ipython",
    "version": 3
   },
   "file_extension": ".py",
   "mimetype": "text/x-python",
   "name": "python",
   "nbconvert_exporter": "python",
   "pygments_lexer": "ipython3",
   "version": "3.8.10"
  }
 },
 "nbformat": 4,
 "nbformat_minor": 2
}
