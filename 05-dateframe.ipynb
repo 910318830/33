{
 "cells": [
  {
   "cell_type": "code",
   "execution_count": 20,
   "metadata": {},
   "outputs": [],
   "source": [
    "import pandas as pd\n",
    "import numpy as np"
   ]
  },
  {
   "cell_type": "code",
   "execution_count": 21,
   "metadata": {},
   "outputs": [],
   "source": [
    "#任务1：将列表转化为Numpy数据\n",
    "date0=[2,3,4,5.5,6]\n",
    "arr0=np.array(date0)"
   ]
  },
  {
   "cell_type": "code",
   "execution_count": 24,
   "metadata": {},
   "outputs": [],
   "source": [
    "s = pd.Series(data=[100,'a',{'dic1':5}],\n",
    "            index=pd.Index(['id1',20,'third'],name='my_idx'),\n",
    "            dtype='object',\n",
    "            name='my_name')"
   ]
  },
  {
   "cell_type": "code",
   "execution_count": 25,
   "metadata": {},
   "outputs": [],
   "source": [
    "s2=pd.Series([\"1\",\"2\",\"3\",\"4\"])"
   ]
  },
  {
   "cell_type": "code",
   "execution_count": 26,
   "metadata": {},
   "outputs": [
    {
     "data": {
      "text/plain": [
       "array([0, 1, 2, 3], dtype=int64)"
      ]
     },
     "execution_count": 26,
     "metadata": {},
     "output_type": "execute_result"
    }
   ],
   "source": [
    "s2.index.values"
   ]
  },
  {
   "cell_type": "code",
   "execution_count": 27,
   "metadata": {},
   "outputs": [
    {
     "data": {
      "text/plain": [
       "array(['1', '2', '3', '4'], dtype=object)"
      ]
     },
     "execution_count": 27,
     "metadata": {},
     "output_type": "execute_result"
    }
   ],
   "source": [
    "s2.values"
   ]
  },
  {
   "cell_type": "code",
   "execution_count": 33,
   "metadata": {},
   "outputs": [],
   "source": [
    "d1={\n",
    "    \"作者\":pd.Series(['余华','残雪','莫言']),\n",
    "    \"作品\":pd.Series(['活着','暗夜','红高粱']),\n",
    "    \"价格\":pd.Series(['25','45','55']),\n",
    "}\n",
    "df2=pd.DataFrame(d1)"
   ]
  },
  {
   "cell_type": "code",
   "execution_count": 36,
   "metadata": {},
   "outputs": [],
   "source": [
    "#任务2：创建DataFrame类型的数据，并获取其索引 值及表大小\n",
    "d={\n",
    "    \"one\": pd.Series([1.0, 2.0, 3.0]),                           \n",
    "    \"two\": pd.Series([1.0, 2.0,3.0,4.0])\n",
    "}\n",
    "df = pd.DataFrame(d)\n",
    "\n"
   ]
  },
  {
   "cell_type": "code",
   "execution_count": null,
   "metadata": {},
   "outputs": [],
   "source": []
  }
 ],
 "metadata": {
  "kernelspec": {
   "display_name": "Python 3",
   "language": "python",
   "name": "python3"
  },
  "language_info": {
   "codemirror_mode": {
    "name": "ipython",
    "version": 3
   },
   "file_extension": ".py",
   "mimetype": "text/x-python",
   "name": "python",
   "nbconvert_exporter": "python",
   "pygments_lexer": "ipython3",
   "version": "3.8.10"
  },
  "orig_nbformat": 4
 },
 "nbformat": 4,
 "nbformat_minor": 2
}
