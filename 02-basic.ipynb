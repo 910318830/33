{
 "cells": [
  {
   "cell_type": "code",
   "execution_count": 21,
   "metadata": {},
   "outputs": [
    {
     "name": "stdout",
     "output_type": "stream",
     "text": [
      "你好，这是我的第一次代码！\n"
     ]
    }
   ],
   "source": [
    "print('你好，这是我的第一次代码！')"
   ]
  },
  {
   "cell_type": "code",
   "execution_count": 12,
   "metadata": {},
   "outputs": [
    {
     "name": "stdout",
     "output_type": "stream",
     "text": [
      "4+2=6\n",
      "4-2=2\n",
      "4*2=8\n",
      "4/2=2.0\n",
      "4//2=2\n",
      "4**2=16\n",
      "4%2=0\n"
     ]
    }
   ],
   "source": [
    "print('4+2='+str(4+2))\n",
    "print('4-2='+str(4-2))\n",
    "print('4*2='+str(4*2))\n",
    "print('4/2='+str(4/2))\n",
    "print('4//2='+str(4//2))\n",
    "print('4**2='+str(4**2))\n",
    "print('4%2='+str(4%2))\n",
    "\n"
   ]
  },
  {
   "cell_type": "code",
   "execution_count": 20,
   "metadata": {},
   "outputs": [
    {
     "name": "stdout",
     "output_type": "stream",
     "text": [
      "桃子\n"
     ]
    }
   ],
   "source": [
    "likefruit='桃子'\n",
    "print(likefruit)\n",
    "\n"
   ]
  },
  {
   "cell_type": "code",
   "execution_count": null,
   "metadata": {},
   "outputs": [],
   "source": []
  }
 ],
 "metadata": {
  "kernelspec": {
   "display_name": "Python 3",
   "language": "python",
   "name": "python3"
  },
  "language_info": {
   "codemirror_mode": {
    "name": "ipython",
    "version": 3
   },
   "file_extension": ".py",
   "mimetype": "text/x-python",
   "name": "python",
   "nbconvert_exporter": "python",
   "pygments_lexer": "ipython3",
   "version": "3.8.10"
  },
  "orig_nbformat": 4
 },
 "nbformat": 4,
 "nbformat_minor": 2
}
