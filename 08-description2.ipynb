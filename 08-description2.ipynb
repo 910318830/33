{
 "cells": [
  {
   "cell_type": "code",
   "execution_count": 49,
   "metadata": {},
   "outputs": [],
   "source": [
    "import pandas as pd \n",
    "from pyreadstat import pyreadstat\n",
    "df,metadata = pyreadstat.read_sav(r'data\\identity.sav',\n",
    "apply_value_formats=True,formats_as_ordered_category=True)\n",
    "result = df['会打多少分'].value_counts(sort=False)\n",
    "df_result = pd.DataFrame(result)\n",
    "df_result['累计求和']=result.values.cumsum()\n"
   ]
  },
  {
   "cell_type": "code",
   "execution_count": 50,
   "metadata": {},
   "outputs": [],
   "source": [
    "result=df['会打多少分'].value_counts(sort=False)\n",
    "df_result = pd.DataFrame(result)\n",
    "df_result['累计求和']=result.values.cumsum()"
   ]
  },
  {
   "cell_type": "code",
   "execution_count": 51,
   "metadata": {},
   "outputs": [],
   "source": [
    "from pyreadstat import pyreadstat\n",
    "df,metadata = pyreadstat.read_sav(r'data\\identity.sav',\n",
    "apply_value_formats=True,formats_as_ordered_category=True)\n"
   ]
  },
  {
   "cell_type": "code",
   "execution_count": 58,
   "metadata": {},
   "outputs": [
    {
     "ename": "AttributeError",
     "evalue": "'list' object has no attribute 'sum'",
     "output_type": "error",
     "traceback": [
      "\u001b[1;31m---------------------------------------------------------------------------\u001b[0m",
      "\u001b[1;31mAttributeError\u001b[0m                            Traceback (most recent call last)",
      "\u001b[1;32mc:\\Users\\86181\\Desktop\\33\\08-description2.ipynb 单元格 4\u001b[0m line \u001b[0;36m2\n\u001b[0;32m      <a href='vscode-notebook-cell:/c%3A/Users/86181/Desktop/33/08-description2.ipynb#W3sZmlsZQ%3D%3D?line=0'>1</a>\u001b[0m result\u001b[39m=\u001b[39mdf[\u001b[39m'\u001b[39m\u001b[39m会打多少分\u001b[39m\u001b[39m'\u001b[39m]\u001b[39m.\u001b[39mvalue_counts(sort\u001b[39m=\u001b[39m\u001b[39mFalse\u001b[39;00m)\n\u001b[1;32m----> <a href='vscode-notebook-cell:/c%3A/Users/86181/Desktop/33/08-description2.ipynb#W3sZmlsZQ%3D%3D?line=1'>2</a>\u001b[0m \u001b[39msum\u001b[39m \u001b[39m=\u001b[39m df_result \u001b[39m=\u001b[39m [\u001b[39m'\u001b[39;49m\u001b[39mcount\u001b[39;49m\u001b[39m'\u001b[39;49m]\u001b[39m.\u001b[39;49msum()\n\u001b[0;32m      <a href='vscode-notebook-cell:/c%3A/Users/86181/Desktop/33/08-description2.ipynb#W3sZmlsZQ%3D%3D?line=2'>3</a>\u001b[0m df_result[\u001b[39m'\u001b[39m\u001b[39m比例\u001b[39m\u001b[39m'\u001b[39m] \u001b[39m=\u001b[39m df_result[\u001b[39m'\u001b[39m\u001b[39mcount\u001b[39m\u001b[39m'\u001b[39m]\u001b[39m/\u001b[39m\u001b[39msum\u001b[39m\n",
      "\u001b[1;31mAttributeError\u001b[0m: 'list' object has no attribute 'sum'"
     ]
    }
   ],
   "source": [
    "result=df['会打多少分'].value_counts(sort=False)\n",
    "sum = df_result = ['count'].sum()\n",
    "df_result['比例'] = df_result['count']/sum"
   ]
  },
  {
   "cell_type": "code",
   "execution_count": 54,
   "metadata": {},
   "outputs": [],
   "source": [
    "result = df['会打多少分'].value_counts(sort=False)\n",
    "描述统计表 = pd.DataFrame(result)"
   ]
  },
  {
   "cell_type": "code",
   "execution_count": 53,
   "metadata": {},
   "outputs": [],
   "source": [
    "result = df['会打多少分'].value_counts(sort=False)\n",
    "描述统计表 = pd.DataFrame(result)\n",
    "描述统计表['比例']=描述统计表['count']/描述统计表['count'].sum()\n",
    "描述统计表['累计比例']=描述统计表['比例'].cumsum()"
   ]
  },
  {
   "cell_type": "code",
   "execution_count": 64,
   "metadata": {},
   "outputs": [],
   "source": [
    "def 有序变量描述统计函数(表名,变量名):\n",
    "    result = 表名[变量名].value_counts(sort=False)\n",
    "    描述统计表 = pd.DataFrame(result)\n",
    "    描述统计表['比例']=描述统计表['count']/描述统计表['count'].sum()\n",
    "    描述统计表['累计比例']=描述统计表['比例'].cumsum()\n",
    "    return 描述统计表"
   ]
  }
 ],
 "metadata": {
  "kernelspec": {
   "display_name": "Python 3",
   "language": "python",
   "name": "python3"
  },
  "language_info": {
   "codemirror_mode": {
    "name": "ipython",
    "version": 3
   },
   "file_extension": ".py",
   "mimetype": "text/x-python",
   "name": "python",
   "nbconvert_exporter": "python",
   "pygments_lexer": "ipython3",
   "version": "3.8.10"
  }
 },
 "nbformat": 4,
 "nbformat_minor": 2
}
